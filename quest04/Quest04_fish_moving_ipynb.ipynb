{
  "nbformat": 4,
  "nbformat_minor": 0,
  "metadata": {
    "colab": {
      "provenance": [],
      "include_colab_link": true
    },
    "kernelspec": {
      "name": "python3",
      "display_name": "Python 3"
    },
    "language_info": {
      "name": "python"
    }
  },
  "cells": [
    {
      "cell_type": "markdown",
      "metadata": {
        "id": "view-in-github",
        "colab_type": "text"
      },
      "source": [
        "<a href=\"https://colab.research.google.com/github/style4da/AIFFEL_Quest/blob/main/quest04/Quest04_fish_moving_ipynb.ipynb\" target=\"_parent\"><img src=\"https://colab.research.google.com/assets/colab-badge.svg\" alt=\"Open In Colab\"/></a>"
      ]
    },
    {
      "cell_type": "markdown",
      "source": [
        "[QUEST 04] 물고기들의 움직임을 출력하기!   \n",
        "===\n",
        "\n",
        "다음 조건을 활용하여 물고기가 물 속에서 움직이는 것을 출력해보자!\n",
        "\n",
        "## 조건\n",
        "아래 물고기 리스트를 입력값으로 넣었을때 물고기의 움직임을 출력값으로 뱉어내도록 만들어봅시다.\n",
        " 물고기의 움직임을 출력하는 함수 2개(컴프리헨션, 제너레이터)를 만듭니다.\n",
        "컴프리헨션 함수에는 이름, 속도를 조합하고 제너레티어 함수에는 for문과 yield문를 활용합니다.\n",
        "물고기 리스트를 입력받으면, 2개의 함수는 물고기 이름과, 속도를 출력해야 합니다.  \n",
        "\n",
        "출력 예시\n",
        "===\n",
        "입력값 :\n",
        "\n",
        "물고기 리스트 생성\n",
        "fish_list = [   \n",
        " {\"이름\": \"Nemo\", \"speed\": 3},    \n",
        "{\"이름\": \"Dory\", \"speed\": 5},   \n",
        "]   \n",
        "\n",
        "print(\"Using Comprehension:\")  \n",
        "show_fish_movement_comprehension(fish_list)   \n",
        "print(\"Using Generator:\")   \n",
        "show_fish_movement_Generator(fish_list)   \n",
        "   \n",
        "출력값 :   \n",
        "Using Comprehension:   \n",
        "Nemo is swimming at 3 m/s   \n",
        "Dory is swimming at 5 m/s    \n",
        "Using Generator:   \n",
        "Nemo is swimming at 3 m/s   \n",
        "Dory is swimming at 5 m/s   \n",
        "\n",
        "\n",
        "\n",
        "\n",
        "\n",
        "\n",
        "코드 작성\n",
        "\n",
        "- 코더 : 김대선 & 조세창"
      ],
      "metadata": {
        "id": "azlvV-joMAWQ"
      }
    },
    {
      "cell_type": "code",
      "source": [
        "# 물고기 움직임 컴프리헨션 함수.\n",
        "def show_fish_movement_comprehension(fish_list):\n",
        "    # 리스트 컴프리헨션을 통해 물고기 리스트를 순회하면서 '이름' 과 'speed'에\n",
        "    # 넣은 f\"{fish['이름']} is swimming at {fish['speed']} m/s\"를 movement 변수에 할당한다.\n",
        "    movement = [f\"{fish['이름']} is swimming at {fish['speed']} m/s\" for fish in fish_list]\n",
        "    # for문을 통해서 movement 변수를 차례대로 출력한다.\n",
        "    for move in movement:\n",
        "        print(move)\n",
        "\n",
        "# 물고기 움직임 제너레이터 함수\n",
        "def show_fish_movement_generator(fish_list):\n",
        "    for fish in fish_list:\n",
        "        yield f\"{fish['이름']} is swimming at {fish['speed']} m/s\"\n",
        "\n",
        "# 물고기 리스트\n",
        "fish_list = [\n",
        "    {\"이름\": \"Nemo\", \"speed\": 3},\n",
        "    {\"이름\": \"Dory\", \"speed\": 5},\n",
        "]\n",
        "\n",
        "print(\"Using Comprehension:\")\n",
        "show_fish_movement_comprehension(fish_list)\n",
        "\n",
        "print(\"Using Generator:\")\n",
        "# generator 변수에 반환된 f\"{fish['이름']} is swimming at {fish['speed']} m/s\"를 할당\n",
        "generator = show_fish_movement_generator(fish_list)\n",
        "# for문을 순회하면서 물고기 움직임 출력\n",
        "for move in generator:\n",
        "    print(move)\n",
        "\n"
      ],
      "metadata": {
        "colab": {
          "base_uri": "https://localhost:8080/"
        },
        "id": "juEsUJQBMQ1a",
        "outputId": "b6e48ac7-7610-4c95-e5b9-0f4efc32ab6b"
      },
      "execution_count": null,
      "outputs": [
        {
          "output_type": "stream",
          "name": "stdout",
          "text": [
            "Using Comprehension:\n",
            "Nemo is swimming at 3 m/s\n",
            "Dory is swimming at 5 m/s\n",
            "Using Generator:\n",
            "Nemo is swimming at 3 m/s\n",
            "Dory is swimming at 5 m/s\n"
          ]
        }
      ]
    },
    {
      "cell_type": "markdown",
      "source": [
        "# 회고   \n",
        "\n",
        "배운점 : 리스트 컴프리헨션, 제너레이터 함수들이 아직 익숙하지는 않지만 조세창그루님의 도움을 많이 받고 배우면서 완성할 수 있었습니다.\n",
        "\n",
        "아쉬운점 : 아직 함수들이 익숙하지 않아 이를 적용하고 익숙해지도록 연습이 필요합니다.\n",
        "\n",
        "느낀점 : 실제 코드들을 다양하고 유연하게 접목을 시키는 것이 역시 가장 중요하다고 느껴집니다."
      ],
      "metadata": {
        "id": "w3if-3tiW-8b"
      }
    }
  ]
}